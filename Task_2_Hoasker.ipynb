{
 "cells": [
  {
   "cell_type": "code",
   "execution_count": null,
   "metadata": {},
   "outputs": [],
   "source": [
    "# Создайте массив массив из 100 элементов (от 1 до 100), переформатируйте в формат (10 * 10), \n",
    "# сделайте слайсинг с шагом 2 по каждой оси.\n"
   ]
  },
  {
   "cell_type": "code",
   "execution_count": null,
   "metadata": {},
   "outputs": [],
   "source": [
    "# Написать функцию, которая по заданной длине последовательности находит среднее арифметическое ее членов. (Для соответсвия примеру вывода используйте длину length = 100_000_000)\n",
    "# Реализуйте задачу с и без помощи numpy, сравните время выполнения\n",
    "# Используйте выражение\n",
    "# %%time\n",
    "# в первой строчке ячейки кода для отображения времени выполнения ячейки\n",
    "# Если возникамют ошибки с %%time - используйте код\n",
    "# from datetime import datetime start_time = datetime.now() ---ваш код--- print(datetime.now() - start_time)\n"
   ]
  },
  {
   "cell_type": "code",
   "execution_count": null,
   "metadata": {},
   "outputs": [],
   "source": [
    "# решение с использованием numpy\n",
    "# для оценки времени исоплнения блока\n",
    "%%time\n",
    "# зададим длину нашей последовательности\n",
    "length = 100_000_000\n",
    "\n",
    "# ваш код тут"
   ]
  },
  {
   "cell_type": "code",
   "execution_count": null,
   "metadata": {},
   "outputs": [],
   "source": [
    "# решение без использования numpy\n",
    "# для оценки времени исоплнения блока\n",
    "%%time\n",
    "\n",
    "# ваш код тут\n"
   ]
  },
  {
   "cell_type": "code",
   "execution_count": null,
   "metadata": {},
   "outputs": [],
   "source": [
    "# Задан Series объект s, найти индекс первого элемента отсортированного s, где значения больше 5\n",
    "# Изначальный код:\n",
    "# r = np.random.RandomState(1) s=pd.Series(r.uniform(0, 10, 100))\n"
   ]
  },
  {
   "cell_type": "code",
   "execution_count": null,
   "metadata": {},
   "outputs": [],
   "source": [
    "# задано изначально\n",
    "# генерируем один и тот же список\n",
    "r = np.random.RandomState(1)\n",
    "s=pd.Series(r.uniform(0, 10, 100))\n",
    "\n",
    "# ваш код тут\n"
   ]
  },
  {
   "cell_type": "code",
   "execution_count": null,
   "metadata": {},
   "outputs": [],
   "source": [
    "# Предположим, что мы наблюдаем за некоторым признаком нашего датасета, но в данных есть пропуски. \n",
    "# Ваша задача: реализовать алгоритм заполнения пропущенных значений последним известным с помощью средств python и pandas. \n",
    "# (подсказка: вам может помочь функция np.isnan(), которая возвращает True, если число - nan. \n",
    "# Для реализации с пандас стоит посмотреть на метод .fillna).\n",
    "# Изначальный код с инициализацией такого датасета предоставлен. Важно! \n",
    "# Графики решений других слушателей могут незначительно отличаться из-за генерации случайных пропусков.\n",
    "# импортируем библиотеку для создания шума\n",
    "import random\n",
    "# библиотека для визуализации\n",
    "import matplotlib.pyplot as plt\n",
    " \n",
    "# создадим наши данные и добавим к каждой точке синусоиды случайный шум\n",
    "a = np.linspace(0, 25, 100)\n",
    "a = np.sin(a) + [random.gauss(0, 0.2) for i in range(len(a))]\n",
    " \n",
    "# создадим 10 случайных пропусков\n",
    "for i in range(10):\n",
    "    a[random.randint(0, len(a) - 1)] = None\n",
    " \n",
    "# ваш код тут\n",
    "# список а содержит пропуски, его надо восстановить\n",
    " \n",
    "# ВАШ КОД ТУТ\n",
    " \n",
    "# отобразим\n",
    "plt.plot(a)"
   ]
  },
  {
   "cell_type": "code",
   "execution_count": null,
   "metadata": {},
   "outputs": [],
   "source": [
    "# Реализация используя python\n",
    "\n",
    "# импортируем библиотеку для создания шума\n",
    "import random\n",
    "# библиотека для визуализации\n",
    "import matplotlib.pyplot as plt\n",
    "\n",
    "# создадим наши данные и добавим к каждой точке синусоиды случайный шум\n",
    "a = np.linspace(0, 25, 100)\n",
    "a = np.sin(a) + [random.gauss(0, 0.2) for i in range(len(a))]\n",
    "\n",
    "# создадим 10 случайных пропусков\n",
    "for i in range(10):\n",
    "    a[random.randint(0, len(a) - 1)] = None\n",
    "\n",
    "# ваш код тут\n",
    "# список а содержит пропуски, его надо восстановить\n",
    "\n",
    "# ВАШ КОД ТУТ\n",
    "\n",
    "# отобразим\n",
    "plt.plot(a)"
   ]
  },
  {
   "cell_type": "code",
   "execution_count": null,
   "metadata": {},
   "outputs": [],
   "source": [
    "# Реализация через matplotlib\n",
    "\n",
    "# импортируем библиотеку для создания шума\n",
    "import random\n",
    "# библиотека для визуализации\n",
    "import matplotlib.pyplot as plt\n",
    "\n",
    "# создадим наши данные и добавим к каждой точке синусоиды случайный шум\n",
    "a = np.linspace(0, 25, 100)\n",
    "a = np.sin(a) + [random.gauss(0, 0.2) for i in range(len(a))]\n",
    "\n",
    "# создадим 10 случайных пропусков\n",
    "for i in range(10):\n",
    "    a[random.randint(0, len(a) - 1)] = None\n",
    "\n",
    "# создадим датафрейм из списка а, он содержит пропуски\n",
    "df = pd.DataFrame({'target':a})\n",
    "\n",
    "# ВАШ КОД ТУТ\n",
    "\n",
    "# отобразим\n",
    "plt.plot(df.target.values)"
   ]
  },
  {
   "cell_type": "code",
   "execution_count": null,
   "metadata": {},
   "outputs": [],
   "source": [
    "# Имеется небольшой игрушечный датафрейм, в котором необходимо провести несколько типов фильтраций (ответы ищите в решениях) и отобразить результат:\n",
    "\n",
    "# всех, кто старше 40\n",
    "# всех, кто имеет доход выше среднего по датасету\n",
    "# всех, кто имеет доход выше среднего по датасету, но надежность ниже среднего по датасету\n",
    "# создать новые столбцы:\n",
    "\n",
    "# важность клиента = доход * надежность\n",
    "# возможная долгосрочность клиента = важность клиента * (средний возраст по датасету - возраст клиента)\n",
    "# подсказка: двойные условия записываются так: (условие 1) & (условие 2)\n",
    "\n",
    "# ** примечание: столбцы не имеют отношения к реальным формулам или моделям, они необходимы только для наглядности"
   ]
  },
  {
   "cell_type": "code",
   "execution_count": null,
   "metadata": {},
   "outputs": [],
   "source": [
    "# создадим тестовый датасет\n",
    "df = pd.DataFrame({\n",
    "    'имя': ['Петя', 'Вася', 'Аня', 'Света'],\n",
    "    'возраст': [45, 26, 41 , 21],\n",
    "    'доход': [100000, 80000, 150000, 60000],\n",
    "    'надежность клиента (0..1)': [0.65, 0.74, 0.87, 0.68],\n",
    "    'пол': ['муж', 'муж', 'жен', 'жен']},\n",
    "    index=[0, 1, 2, 3])\n",
    "\n",
    "# Ваш код по обработке тут"
   ]
  },
  {
   "cell_type": "code",
   "execution_count": null,
   "metadata": {},
   "outputs": [],
   "source": [
    "Используя материалы блока Exploratory data analysis материалов 2го модуля вывести имена всех выживших детей (до 18 лет) и их количество\n",
    "\n",
    "Изначальный код:\n",
    "\n",
    "data = pd.read_csv('https://web.stanford.edu/class/archive/cs/cs109/cs109.1166/stuff/titanic.csv')\n",
    "\n",
    "data.head()"
   ]
  },
  {
   "cell_type": "code",
   "execution_count": null,
   "metadata": {},
   "outputs": [],
   "source": [
    "data = pd.read_csv('https://web.stanford.edu/class/archive/cs/cs109/cs109.1166/stuff/titanic.csv')\n",
    "\n",
    "data.head()"
   ]
  },
  {
   "cell_type": "code",
   "execution_count": null,
   "metadata": {},
   "outputs": [],
   "source": [
    "# отображаем количество выживших детей\n",
    "\n",
    "# ваш код тут"
   ]
  },
  {
   "cell_type": "code",
   "execution_count": null,
   "metadata": {},
   "outputs": [],
   "source": [
    "# отображаем их имена\n",
    "\n",
    "# ваш код тут"
   ]
  }
 ],
 "metadata": {
  "kernelspec": {
   "display_name": "Python 3",
   "language": "python",
   "name": "python3"
  },
  "language_info": {
   "codemirror_mode": {
    "name": "ipython",
    "version": 3
   },
   "file_extension": ".py",
   "mimetype": "text/x-python",
   "name": "python",
   "nbconvert_exporter": "python",
   "pygments_lexer": "ipython3",
   "version": "3.7.6"
  }
 },
 "nbformat": 4,
 "nbformat_minor": 4
}
