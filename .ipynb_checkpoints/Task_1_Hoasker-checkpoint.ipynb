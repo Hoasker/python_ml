{
 "cells": [
  {
   "cell_type": "code",
   "execution_count": 1,
   "metadata": {},
   "outputs": [
    {
     "name": "stdout",
     "output_type": "stream",
     "text": [
      "1\n"
     ]
    }
   ],
   "source": [
    "# Создать переменную a = 10, возвести значение в 3 степень и найти остаток от деления на 3.\n",
    "a = 10\n",
    "print((a ** 3) % 3)"
   ]
  },
  {
   "cell_type": "code",
   "execution_count": 2,
   "metadata": {},
   "outputs": [
    {
     "name": "stdout",
     "output_type": "stream",
     "text": [
      "Площадь: 4.79\n"
     ]
    }
   ],
   "source": [
    "# Найдите площадь круга с радиусом 1.23456.\n",
    "pi = 3.14\n",
    "r = 1.23456\n",
    "\n",
    "print(\"Площадь: %.2f\" % (pi * r ** 2))"
   ]
  },
  {
   "cell_type": "code",
   "execution_count": 12,
   "metadata": {},
   "outputs": [
    {
     "name": "stdout",
     "output_type": "stream",
     "text": [
      "True\n"
     ]
    }
   ],
   "source": [
    "# Найдите, истинно ли, что 2 в 10 степени больше 1000 при условии, что 4 в 7й степени меньше 8 в 5й.\n",
    "a = 2 ** 10 # 1024\n",
    "b = 4 ** 7 # 16384\n",
    "c = 8 ** 5 # 32768\n",
    "if b < c:\n",
    "    if a > 1000:\n",
    "        print(True)"
   ]
  },
  {
   "cell_type": "code",
   "execution_count": 15,
   "metadata": {},
   "outputs": [
    {
     "name": "stdout",
     "output_type": "stream",
     "text": [
      "Введите цену товара: 801\n",
      "Всё ок\n"
     ]
    }
   ],
   "source": [
    "# Мы принимаем целое число на ввод с клавиатуры (код предоставлен), \n",
    "# вывести \"цена выше рынка\", если число выше 1200, \"цена ниже рыночной\", если число меньше 800 и \"все ок\" в остальных случаях.\n",
    "# price = int(input('Введите цену товара: '))\n",
    "\n",
    "price = int(input('Введите цену товара: '))\n",
    "if price > 1200: \n",
    "    print(\"Цена выше рынка\")\n",
    "elif price < 800:\n",
    "    print(\"Цена ниже рыночной\")\n",
    "else:\n",
    "    print(\"Всё ок\")"
   ]
  },
  {
   "cell_type": "code",
   "execution_count": 21,
   "metadata": {},
   "outputs": [
    {
     "data": {
      "text/plain": [
       "'ЕТ М'"
      ]
     },
     "execution_count": 21,
     "metadata": {},
     "output_type": "execute_result"
    }
   ],
   "source": [
    "# Распечатайте с 4 по 8 символ фразы \"Привет мир!\" приведенные к верхнему регистру.\n",
    "# Отсчет c 0, пробел тоже символ *\n",
    "\"Привет мир!\".upper()[4:8]"
   ]
  },
  {
   "cell_type": "code",
   "execution_count": 29,
   "metadata": {},
   "outputs": [
    {
     "name": "stdout",
     "output_type": "stream",
     "text": [
      "['создайте', 'переменную,', 'которая', 'хранит', 'описание', 'этой', 'задачи', 'как', 'строку,', 'разделите', 'слова', 'по', 'пробелам', 'и', 'приведите', 'к', 'нижнему', 'регистру']\n"
     ]
    }
   ],
   "source": [
    "# Создайте переменную, которая хранит описание этой задачи как строку, разделите слова по пробелам и приведите к нижнему регистру.\n",
    "sentence = 'Создайте переменную, которая хранит описание этой задачи как строку, разделите слова по пробелам и приведите к нижнему регистру'.lower()\n",
    "print(sentence.split(' '))"
   ]
  },
  {
   "cell_type": "code",
   "execution_count": 38,
   "metadata": {},
   "outputs": [
    {
     "name": "stdout",
     "output_type": "stream",
     "text": [
      "3 ['airplane', 'hello', 'world']\n"
     ]
    }
   ],
   "source": [
    "# Напишите код, который проверяет, является ли переменная x строкой, и если да, то если в строке больше одного слова (слово--последовательность подряд идущих символов без пробелов), то выводит на экран количество слов в этой строке и сами слова в алфавитном порядке.\n",
    "# Подсказка: Метод .sort() подходит и для сортировки слов\n",
    "x = 'hello world airplane'\n",
    "if isinstance(x, str):\n",
    "    words = x.split()\n",
    "    if len(words[1:]) > 0:\n",
    "        words.sort()\n",
    "        print(len(words), words)"
   ]
  },
  {
   "cell_type": "code",
   "execution_count": 40,
   "metadata": {},
   "outputs": [
    {
     "name": "stdout",
     "output_type": "stream",
     "text": [
      "[0, 9, 2, 7, 4, 5, 6, 3, 8, 1]\n"
     ]
    }
   ],
   "source": [
    "# Напишите код, который все элементы массива x с нечетными индексами переставит в обратном порядке.\n",
    "# Т.е. если x = [0, 1, 2, 3, 4, 5, 6, 7, 8, 9], то код должен получать [0, 9, 2, 7, 4, 5, 6, 3, 8, 1]\n",
    "x = [0, 1, 2, 3, 4, 5, 6, 7, 8, 9]\n",
    "x[1::2] = reversed(x[1::2])\n",
    "print(x)"
   ]
  },
  {
   "cell_type": "code",
   "execution_count": 48,
   "metadata": {},
   "outputs": [
    {
     "name": "stdout",
     "output_type": "stream",
     "text": [
      "[28, 84, 98, 168, 182, 189, 238, 280, 287, 308, 378, 385, 448, 483]\n"
     ]
    }
   ],
   "source": [
    "# Напишите цикл, который выводит все числа от 0 до 500, делящиеся на 7, если в них есть цифра 8.\n",
    "# Подсказка: переменную типа int можно привести к типу str:\n",
    "a = []\n",
    "for i in range(500):\n",
    "    if i % 7 == 0 and '8' in str(i):\n",
    "        a.append(i)\n",
    "print(a)\n",
    "# [28, 84, 98, 168, 182, 189, 238, 280, 287, 308, 378, 385, 448, 483]"
   ]
  },
  {
   "cell_type": "code",
   "execution_count": 52,
   "metadata": {},
   "outputs": [
    {
     "data": {
      "text/plain": [
       "{'red': (0, 3), 'green': (1, 5), 'blue': (2, 4), 'white': (3, 5)}"
      ]
     },
     "execution_count": 52,
     "metadata": {},
     "output_type": "execute_result"
    }
   ],
   "source": [
    "array =[\"string\",\"string\",\"string\",\"string\"]\n",
    "\n",
    "dict(zip(mas,enumerate(list(map(len,mas))) ) )"
   ]
  },
  {
   "cell_type": "code",
   "execution_count": null,
   "metadata": {},
   "outputs": [],
   "source": []
  }
 ],
 "metadata": {
  "kernelspec": {
   "display_name": "Python 3",
   "language": "python",
   "name": "python3"
  },
  "language_info": {
   "codemirror_mode": {
    "name": "ipython",
    "version": 3
   },
   "file_extension": ".py",
   "mimetype": "text/x-python",
   "name": "python",
   "nbconvert_exporter": "python",
   "pygments_lexer": "ipython3",
   "version": "3.7.6"
  }
 },
 "nbformat": 4,
 "nbformat_minor": 4
}
